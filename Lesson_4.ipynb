{
 "cells": [
  {
   "cell_type": "code",
   "execution_count": 16,
   "id": "de1ffae6",
   "metadata": {},
   "outputs": [],
   "source": [
    "import seaborn as sns\n",
    "import matplotlib.pyplot as plt\n",
    "anscombe = sns.load_dataset('anscombe')"
   ]
  },
  {
   "cell_type": "markdown",
   "id": "7af611f6",
   "metadata": {},
   "source": [
    "## Plotting Anscombe data  with MatPlotLib"
   ]
  },
  {
   "cell_type": "code",
   "execution_count": 17,
   "id": "e3bed0be",
   "metadata": {},
   "outputs": [
    {
     "data": {
      "text/plain": [
       "(44, 3)"
      ]
     },
     "execution_count": 17,
     "metadata": {},
     "output_type": "execute_result"
    }
   ],
   "source": [
    "anscombe.shape"
   ]
  },
  {
   "cell_type": "code",
   "execution_count": 35,
   "id": "7e9436fb",
   "metadata": {},
   "outputs": [
    {
     "data": {
      "text/plain": [
       "[<matplotlib.lines.Line2D at 0x7f7baba92880>]"
      ]
     },
     "execution_count": 35,
     "metadata": {},
     "output_type": "execute_result"
    },
    {
     "data": {
      "image/png": "[encoded data removed]",
      "text/plain": [
       "<Figure size 432x288 with 4 Axes>"
      ]
     },
     "metadata": {
      "needs_background": "light"
     },
     "output_type": "display_data"
    }
   ],
   "source": [
    "# Create individual datasets by filtering\n",
    "ds_1 = anscombe[anscombe['dataset']== 'I']\n",
    "ds_2 = anscombe[anscombe['dataset']== 'II']\n",
    "ds_3 = anscombe[anscombe['dataset']== 'III']\n",
    "ds_4 = anscombe[anscombe['dataset']== 'IV']\n",
    "\n",
    "# Set plot area\n",
    "fig = plt.figure()\n",
    "axes1 = fig.add_subplot(2,2,1)\n",
    "axes2 = fig.add_subplot(2,2,2)\n",
    "axes3 = fig.add_subplot(2,2,3)\n",
    "axes4 = fig.add_subplot(2,2,4)\n",
    "\n",
    "# Set axes titles\n",
    "fig.suptitle('Ansacombe Datasets')\n",
    "axes1.set_title('Dataset 1')\n",
    "axes2.set_title('Dataset 2')\n",
    "axes3.set_title('Dataset 3')\n",
    "axes4.set_title('Dataset 4')\n",
    "\n",
    "# Plot the data\n",
    "axes1.plot(ds_1.x, ds_1.y, 'o')\n",
    "axes2.plot(ds_2.x, ds_2.y, 'o')\n",
    "axes3.plot(ds_3.x, ds_3.y, 'o')\n",
    "axes4.plot(ds_3.x, ds_4.y, 'o')"
   ]
  },
  {
   "cell_type": "code",
   "execution_count": 29,
   "id": "8f625797",
   "metadata": {},
   "outputs": [],
   "source": []
  },
  {
   "cell_type": "code",
   "execution_count": 38,
   "id": "76465147",
   "metadata": {},
   "outputs": [],
   "source": [
    "tips = sns.load_dataset('tips')"
   ]
  },
  {
   "cell_type": "code",
   "execution_count": null,
   "id": "c1fdfe82",
   "metadata": {},
   "outputs": [],
   "source": []
  }
 ],
 "metadata": {
  "kernelspec": {
   "display_name": "Python 3 (ipykernel)",
   "language": "python",
   "name": "python3"
  },
  "language_info": {
   "codemirror_mode": {
    "name": "ipython",
    "version": 3
   },
   "file_extension": ".py",
   "mimetype": "text/x-python",
   "name": "python",
   "nbconvert_exporter": "python",
   "pygments_lexer": "ipython3",
   "version": "3.9.7"
  }
 },
 "nbformat": 4,
 "nbformat_minor": 5
}
